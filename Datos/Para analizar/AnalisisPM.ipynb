{
 "cells": [
  {
   "cell_type": "code",
   "execution_count": null,
   "metadata": {},
   "outputs": [],
   "source": [
    "Datos de referencia y MACA para los períodos 5/1/2018 al 12/1/2018 (8dias) y 15/12/2018 al 2/2/2018 (18 dias)\n",
    "\n",
    "LECTURA DE LOS DATOS PARA ANALIZAR\n",
    "Lectura de datos del equipo Referencia\n",
    "Dia,mes,año,hora,minuto,NO,NO2,NOx,PM10,O3,Temperatura,DV,Velocidad,HR,CO,SO2"
   ]
  },
  {
   "cell_type": "code",
   "execution_count": 3,
   "metadata": {},
   "outputs": [],
   "source": [
    "DatosE = dlmread('./INV2018.csv',\",\")(4:end,1:16);\n",
    "EtiqE = {\"NO\",\"NO2\",\"NOx\",\"PM10\",\"O3\",\"Temperatura\",\"DV\",\"Velocidad\",\"HR\",\"CO\",\"SO2\"};"
   ]
  },
  {
   "cell_type": "code",
   "execution_count": null,
   "metadata": {},
   "outputs": [],
   "source": [
    "Lectura de datos del MACA CON bluetooth\n",
    "Aclaración: los datos de PM son en realidad datos de LPO del Shinyei\n",
    "Dia,mes,año,hora,minuto,O3,NO2,CO,dO3,dNO2,dCO,HR,T,PM2.5,PM10"
   ]
  },
  {
   "cell_type": "code",
   "execution_count": 4,
   "metadata": {},
   "outputs": [],
   "source": [
    "DatosMc=dlmread('./macaconb.csv',\",\")(:,:);"
   ]
  },
  {
   "cell_type": "code",
   "execution_count": 6,
   "metadata": {},
   "outputs": [],
   "source": [
    "%% Transforma a DateNum\n",
    "%DAYS = datenum (YEAR, MONTH, DAY, HOUR, MINUTE)\n",
    "FechasE=datenum(DatosE(:,3)+2000,DatosE(:,2),DatosE(:,1),DatosE(:,4),DatosE(:,5));\n",
    "FechasMc=datenum(DatosMc(:,3)+2000,DatosMc(:,2),DatosMc(:,1),DatosMc(:,4),DatosMc(:,5));\n",
    "\n",
    "% Encontrar las fechas para las que hay datos de ambos equipos\n",
    "FechasE_Match = ismember(FechasE, FechasMc);\t%Fechas camion para las que hay datos del MACA.\n",
    "MatchDates = FechasE(FechasE_Match);\n",
    "FechasMc_Match = ismember(unique(FechasMc), MatchDates);\t%Fechas del MACA para la que hay coincidencia."
   ]
  },
  {
   "cell_type": "code",
   "execution_count": null,
   "metadata": {},
   "outputs": [],
   "source": []
  }
 ],
 "metadata": {
  "kernelspec": {
   "display_name": "Octave",
   "language": "octave",
   "name": "octave"
  },
  "language_info": {
   "file_extension": ".m",
   "help_links": [
    {
     "text": "GNU Octave",
     "url": "https://www.gnu.org/software/octave/support.html"
    },
    {
     "text": "Octave Kernel",
     "url": "https://github.com/Calysto/octave_kernel"
    },
    {
     "text": "MetaKernel Magics",
     "url": "https://github.com/calysto/metakernel/blob/master/metakernel/magics/README.md"
    }
   ],
   "mimetype": "text/x-octave",
   "name": "octave",
   "version": "4.2.1"
  }
 },
 "nbformat": 4,
 "nbformat_minor": 2
}
